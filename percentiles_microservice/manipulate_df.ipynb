{
 "cells": [
  {
   "cell_type": "code",
   "execution_count": 2,
   "id": "05bba6cb-2e81-4fe1-9917-3b41a2f05f42",
   "metadata": {},
   "outputs": [],
   "source": [
    "import pandas as pd"
   ]
  },
  {
   "cell_type": "code",
   "execution_count": 38,
   "id": "e6dacee4-6394-40f5-91e9-7ba827358f1b",
   "metadata": {},
   "outputs": [
    {
     "name": "stderr",
     "output_type": "stream",
     "text": [
      "/var/folders/qj/g13f52zj7553jhpjgb0641w00000gn/T/ipykernel_30086/801796.py:1: DtypeWarning: Columns (33,35,38) have mixed types. Specify dtype option on import or set low_memory=False.\n",
      "  df = pd.read_csv('openpowerlifting-2024-11-30-a70793a3.csv')\n"
     ]
    }
   ],
   "source": [
    "df = pd.read_csv('openpowerlifting-2024-11-30-a70793a3.csv')\n",
    "\n",
    "# print(df.head())"
   ]
  },
  {
   "cell_type": "code",
   "execution_count": 46,
   "id": "0ac746f1-99dd-4465-87e8-38efd93a1c92",
   "metadata": {},
   "outputs": [
    {
     "data": {
      "text/plain": [
       "Index(['Name', 'Sex', 'Event', 'Equipment', 'Age', 'AgeClass',\n",
       "       'BirthYearClass', 'Division', 'BodyweightKg', 'WeightClassKg',\n",
       "       'Squat1Kg', 'Squat2Kg', 'Squat3Kg', 'Squat4Kg', 'Best3SquatKg',\n",
       "       'Bench1Kg', 'Bench2Kg', 'Bench3Kg', 'Bench4Kg', 'Best3BenchKg',\n",
       "       'Deadlift1Kg', 'Deadlift2Kg', 'Deadlift3Kg', 'Deadlift4Kg',\n",
       "       'Best3DeadliftKg', 'TotalKg', 'Place', 'Dots', 'Wilks', 'Glossbrenner',\n",
       "       'Goodlift', 'Tested', 'Country', 'State', 'Federation',\n",
       "       'ParentFederation', 'Date', 'MeetCountry', 'MeetState', 'MeetTown',\n",
       "       'MeetName', 'Sanctioned'],\n",
       "      dtype='object')"
      ]
     },
     "execution_count": 46,
     "metadata": {},
     "output_type": "execute_result"
    }
   ],
   "source": [
    "sum(df['BodyweightKg'].isna())\n",
    "sum(df['BodyweightKg'] == '')\n",
    "df.columns"
   ]
  },
  {
   "cell_type": "code",
   "execution_count": 47,
   "id": "d58b0b22-9bff-4e9c-8174-196ce1a32a04",
   "metadata": {},
   "outputs": [
    {
     "name": "stdout",
     "output_type": "stream",
     "text": [
      "5679792\n"
     ]
    }
   ],
   "source": [
    "df_filtered = df[(df['Equipment'] == 'Raw') & (df['BodyweightKg'].notna()) & (df['Tested'] == 'Yes') & (df['Age'].notna())][['Sex', 'Age', 'BodyweightKg', 'Best3DeadliftKg', 'Best3BenchKg', 'Best3SquatKg']]\n",
    "print(df_filtered.size)"
   ]
  },
  {
   "cell_type": "code",
   "execution_count": 49,
   "id": "db3d5549-67ba-4aef-9eeb-c37ef1b6319e",
   "metadata": {},
   "outputs": [],
   "source": [
    "df_filtered.to_csv('filtered_df.csv')"
   ]
  },
  {
   "cell_type": "code",
   "execution_count": null,
   "id": "471fd77b-159d-4511-b548-caba57faab13",
   "metadata": {},
   "outputs": [],
   "source": []
  },
  {
   "cell_type": "code",
   "execution_count": null,
   "id": "d3fc3e39-e6d3-4170-a1f5-f9435e29bec1",
   "metadata": {},
   "outputs": [],
   "source": []
  },
  {
   "cell_type": "code",
   "execution_count": 6,
   "id": "9d8226cd-9c29-473f-b19b-d86391c95b8e",
   "metadata": {},
   "outputs": [],
   "source": [
    "df_filtered['BodyweightKg'] = df_filtered['BodyweightKg'].apply(lambda x: round(x/5) * 5)"
   ]
  },
  {
   "cell_type": "code",
   "execution_count": 15,
   "id": "c7f819fa-639c-4a4f-b902-e929ddf3f6dc",
   "metadata": {},
   "outputs": [
    {
     "data": {
      "text/plain": [
       "0.10    185.0\n",
       "0.25    210.0\n",
       "0.50    237.5\n",
       "0.75    265.0\n",
       "0.90    290.0\n",
       "Name: Best3DeadliftKg, dtype: float64"
      ]
     },
     "execution_count": 15,
     "metadata": {},
     "output_type": "execute_result"
    }
   ],
   "source": [
    "df_filtered[(df_filtered['Sex'] == 'M') & (df_filtered['Age'] == 30.0) & (df_filtered['Best3DeadliftKg'].notna())]['Best3DeadliftKg'].quantile([0.1, 0.25, 0.5, 0.75, 0.9])"
   ]
  },
  {
   "cell_type": "code",
   "execution_count": 18,
   "id": "0eb43e63-1c7a-4132-8996-6a1f17662fc9",
   "metadata": {},
   "outputs": [
    {
     "name": "stderr",
     "output_type": "stream",
     "text": [
      "/var/folders/qj/g13f52zj7553jhpjgb0641w00000gn/T/ipykernel_30086/2684119017.py:1: UserWarning: Boolean Series key will be reindexed to match DataFrame index.\n",
      "  df_filtered[(df['Sex'] == sex) &\n"
     ]
    },
    {
     "data": {
      "text/plain": [
       "0.10    204.500\n",
       "0.25    223.750\n",
       "0.50    247.500\n",
       "0.75    272.245\n",
       "0.90    297.750\n",
       "Name: Best3DeadliftKg, dtype: float64"
      ]
     },
     "execution_count": 18,
     "metadata": {},
     "output_type": "execute_result"
    }
   ],
   "source": [
    "df_filtered[(df['Sex'] == sex) &\n",
    "                                 (df['BodyweightKg'] == weight) & (df['Age'] == age) & (df['Best3DeadliftKg'].notna())]['Best3DeadliftKg'].quantile([0.1, 0.25, 0.5, 0.75, 0.9])"
   ]
  },
  {
   "cell_type": "code",
   "execution_count": 17,
   "id": "ec20e29c-0b38-46bc-acd8-96bddf9ca86b",
   "metadata": {},
   "outputs": [],
   "source": [
    "sex, age, weight = 'M', 25, 100"
   ]
  },
  {
   "cell_type": "code",
   "execution_count": 34,
   "id": "d0c11794-be51-43a9-ad21-70f78f40e028",
   "metadata": {},
   "outputs": [],
   "source": [
    "dl_query = df_filtered[(df_filtered['Sex'] == sex) & (df_filtered['BodyweightKg'] == weight) & (df_filtered['Age'] == 'F') & (df_filtered['Best3DeadliftKg'].notna())]['Best3DeadliftKg'].quantile([0.1, 0.25, 0.5, 0.75, 0.9])"
   ]
  },
  {
   "cell_type": "code",
   "execution_count": 37,
   "id": "0c387a2b-6b4c-41ed-9de1-cf136fb3a2c6",
   "metadata": {},
   "outputs": [
    {
     "data": {
      "text/plain": [
       "True"
      ]
     },
     "execution_count": 37,
     "metadata": {},
     "output_type": "execute_result"
    }
   ],
   "source": [
    "dl_query.isna().any()"
   ]
  },
  {
   "cell_type": "code",
   "execution_count": 50,
   "id": "16299be8-239a-43a1-86dd-92db9ac822e5",
   "metadata": {},
   "outputs": [],
   "source": [
    "personalized_query = df_filtered\n",
    "deadlift = personalized_query[personalized_query['Best3DeadliftKg'].notna()]['Best3DeadliftKg'].quantile([0.1, 0.25, 0.5, 0.75, 0.9]).to_dict()\n"
   ]
  },
  {
   "cell_type": "code",
   "execution_count": 52,
   "id": "1380ee38-7a97-4a7b-94ff-22209658a741",
   "metadata": {},
   "outputs": [],
   "source": [
    "deadlift['exercise_name'] = 'test'"
   ]
  },
  {
   "cell_type": "code",
   "execution_count": 61,
   "id": "414c9df6-5dd7-40b9-9799-142dcc7dcb37",
   "metadata": {},
   "outputs": [],
   "source": [
    "    deadlift = personalized_query[personalized_query['Best3DeadliftKg'].notna()]['Best3DeadliftKg'].quantile([0.1, 0.25, 0.5, 0.75, 0.9]).to_dict()\n",
    "    bench = personalized_query[personalized_query['Best3BenchKg'].notna()]['Best3BenchKg'].quantile([0.1, 0.25, 0.5, 0.75, 0.9]).to_dict()\n",
    "    squat = personalized_query[personalized_query['Best3SquatKg'].notna()]['Best3SquatKg'].quantile([0.1, 0.25, 0.5, 0.75, 0.9]).to_dict()\n",
    "    deadlift['exercise_name'] = 'deadlift'\n",
    "    bench['exercise_name'] = 'bench'\n",
    "    squat['exercise_name'] = 'squat'\n"
   ]
  },
  {
   "cell_type": "code",
   "execution_count": 64,
   "id": "26426be2-d637-45e2-b762-42983cc00041",
   "metadata": {},
   "outputs": [
    {
     "data": {
      "text/plain": [
       "[{0.1: 112.5,\n",
       "  0.25: 142.5,\n",
       "  0.5: 190.0,\n",
       "  0.75: 235.0,\n",
       "  0.9: 265.0,\n",
       "  'exercise_name': 'deadlift'},\n",
       " {0.1: 52.5,\n",
       "  0.25: 72.5,\n",
       "  0.5: 110.0,\n",
       "  0.75: 142.5,\n",
       "  0.9: 167.5,\n",
       "  'exercise_name': 'bench'},\n",
       " {0.1: 90.0,\n",
       "  0.25: 117.5,\n",
       "  0.5: 162.5,\n",
       "  0.75: 205.0,\n",
       "  0.9: 240.0,\n",
       "  'exercise_name': 'squat'}]"
      ]
     },
     "execution_count": 64,
     "metadata": {},
     "output_type": "execute_result"
    }
   ],
   "source": [
    "[deadlift, bench, squat]"
   ]
  },
  {
   "cell_type": "code",
   "execution_count": null,
   "id": "0ca858f2-18bc-4d4a-b9b6-603fae642f23",
   "metadata": {},
   "outputs": [],
   "source": []
  }
 ],
 "metadata": {
  "kernelspec": {
   "display_name": "Python 3 (ipykernel)",
   "language": "python",
   "name": "python3"
  },
  "language_info": {
   "codemirror_mode": {
    "name": "ipython",
    "version": 3
   },
   "file_extension": ".py",
   "mimetype": "text/x-python",
   "name": "python",
   "nbconvert_exporter": "python",
   "pygments_lexer": "ipython3",
   "version": "3.12.1"
  }
 },
 "nbformat": 4,
 "nbformat_minor": 5
}
