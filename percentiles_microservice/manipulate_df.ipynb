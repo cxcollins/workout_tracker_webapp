{
 "cells": [
  {
   "cell_type": "code",
   "execution_count": 1,
   "id": "05bba6cb-2e81-4fe1-9917-3b41a2f05f42",
   "metadata": {},
   "outputs": [],
   "source": [
    "import pandas as pd"
   ]
  },
  {
   "cell_type": "code",
   "execution_count": 21,
   "id": "e6dacee4-6394-40f5-91e9-7ba827358f1b",
   "metadata": {},
   "outputs": [],
   "source": [
    "# df = pd.read_csv('openpowerlifting-2024-11-30-a70793a3.csv')\n",
    "df = pd.read_csv('filtered_df.csv')\n",
    "# print(df.head())"
   ]
  },
  {
   "cell_type": "code",
   "execution_count": 22,
   "id": "63e6ca71-9343-405b-8570-31792a4fee19",
   "metadata": {},
   "outputs": [],
   "source": [
    "sex, age, weight = 'M', 25, 100\n",
    "\n",
    "personalized_query = df[(df['Sex'] == sex) & (df['BodyweightKg'] == weight) & (df['Age'] == age) & (df['Best3DeadliftKg'].notna())]\n"
   ]
  },
  {
   "cell_type": "code",
   "execution_count": 23,
   "id": "62a7be25-07e6-407a-8ac0-62ca2e6afcb4",
   "metadata": {},
   "outputs": [],
   "source": [
    "    deadlift = personalized_query[personalized_query['Best3DeadliftKg'].notna()]['Best3DeadliftKg'].quantile([0.1, 0.25, 0.5, 0.75, 0.9]).to_dict()\n",
    "    bench = personalized_query[personalized_query['Best3BenchKg'].notna()]['Best3BenchKg'].quantile([0.1, 0.25, 0.5, 0.75, 0.9]).to_dict()\n",
    "    squat = personalized_query[personalized_query['Best3SquatKg'].notna()]['Best3SquatKg'].quantile([0.1, 0.25, 0.5, 0.75, 0.9]).to_dict()\n",
    "    deadlift['exercise_name'] = 'deadlift'\n",
    "    bench['exercise_name'] = 'bench'\n",
    "    squat['exercise_name'] = 'squat'\n"
   ]
  },
  {
   "cell_type": "code",
   "execution_count": 24,
   "id": "ecdf248b-32b6-4e4e-b608-caba94011349",
   "metadata": {},
   "outputs": [
    {
     "name": "stdout",
     "output_type": "stream",
     "text": [
      "[{0.1: 204.5, 0.25: 223.75, 0.5: 247.5, 0.75: 272.245, 0.9: 297.75, 'exercise_name': 'deadlift'}, {0.1: 123.75, 0.25: 130.0, 0.5: 141.25, 0.75: 148.125, 0.9: 176.9, 'exercise_name': 'bench'}, {0.1: 179.5, 0.25: 192.71, 0.5: 204.56, 0.75: 227.5, 0.9: 240.369, 'exercise_name': 'squat'}]\n"
     ]
    }
   ],
   "source": [
    "print([deadlift, bench, squat])"
   ]
  },
  {
   "cell_type": "code",
   "execution_count": null,
   "id": "3b07bf30-61d1-4ba8-acc9-275d235e8b92",
   "metadata": {},
   "outputs": [],
   "source": []
  },
  {
   "cell_type": "code",
   "execution_count": null,
   "id": "ad983b87-6b80-4a44-9d63-e8ca89d2e427",
   "metadata": {},
   "outputs": [],
   "source": []
  },
  {
   "cell_type": "code",
   "execution_count": null,
   "id": "be90eb30-30f2-42b9-b9ce-92d53c2a597f",
   "metadata": {},
   "outputs": [],
   "source": []
  },
  {
   "cell_type": "code",
   "execution_count": null,
   "id": "52830eb1-ca3d-48e7-ac8e-6b63a881cab6",
   "metadata": {},
   "outputs": [],
   "source": []
  },
  {
   "cell_type": "code",
   "execution_count": null,
   "id": "75f1f554-4b6b-4b56-b0b7-6be9e41e51ec",
   "metadata": {},
   "outputs": [],
   "source": []
  },
  {
   "cell_type": "code",
   "execution_count": null,
   "id": "98452646-04e1-4d9a-ace7-2b74ecb99315",
   "metadata": {},
   "outputs": [],
   "source": []
  },
  {
   "cell_type": "code",
   "execution_count": 3,
   "id": "0ac746f1-99dd-4465-87e8-38efd93a1c92",
   "metadata": {},
   "outputs": [
    {
     "data": {
      "text/plain": [
       "Index(['Name', 'Sex', 'Event', 'Equipment', 'Age', 'AgeClass',\n",
       "       'BirthYearClass', 'Division', 'BodyweightKg', 'WeightClassKg',\n",
       "       'Squat1Kg', 'Squat2Kg', 'Squat3Kg', 'Squat4Kg', 'Best3SquatKg',\n",
       "       'Bench1Kg', 'Bench2Kg', 'Bench3Kg', 'Bench4Kg', 'Best3BenchKg',\n",
       "       'Deadlift1Kg', 'Deadlift2Kg', 'Deadlift3Kg', 'Deadlift4Kg',\n",
       "       'Best3DeadliftKg', 'TotalKg', 'Place', 'Dots', 'Wilks', 'Glossbrenner',\n",
       "       'Goodlift', 'Tested', 'Country', 'State', 'Federation',\n",
       "       'ParentFederation', 'Date', 'MeetCountry', 'MeetState', 'MeetTown',\n",
       "       'MeetName', 'Sanctioned'],\n",
       "      dtype='object')"
      ]
     },
     "execution_count": 3,
     "metadata": {},
     "output_type": "execute_result"
    }
   ],
   "source": [
    "sum(df['BodyweightKg'].isna())\n",
    "sum(df['BodyweightKg'] == '')\n",
    "df.columns"
   ]
  },
  {
   "cell_type": "code",
   "execution_count": 4,
   "id": "d58b0b22-9bff-4e9c-8174-196ce1a32a04",
   "metadata": {},
   "outputs": [
    {
     "name": "stdout",
     "output_type": "stream",
     "text": [
      "5679792\n"
     ]
    }
   ],
   "source": [
    "df_filtered = df[(df['Equipment'] == 'Raw') & (df['BodyweightKg'].notna()) & (df['Tested'] == 'Yes') & (df['Age'].notna())][['Sex', 'Age', 'BodyweightKg', 'Best3DeadliftKg', 'Best3BenchKg', 'Best3SquatKg']]\n",
    "print(df_filtered.size)"
   ]
  },
  {
   "cell_type": "code",
   "execution_count": 49,
   "id": "db3d5549-67ba-4aef-9eeb-c37ef1b6319e",
   "metadata": {},
   "outputs": [],
   "source": [
    "df_filtered.to_csv('filtered_df.csv')"
   ]
  },
  {
   "cell_type": "code",
   "execution_count": null,
   "id": "471fd77b-159d-4511-b548-caba57faab13",
   "metadata": {},
   "outputs": [],
   "source": []
  },
  {
   "cell_type": "code",
   "execution_count": null,
   "id": "d3fc3e39-e6d3-4170-a1f5-f9435e29bec1",
   "metadata": {},
   "outputs": [],
   "source": []
  },
  {
   "cell_type": "code",
   "execution_count": 6,
   "id": "9d8226cd-9c29-473f-b19b-d86391c95b8e",
   "metadata": {},
   "outputs": [],
   "source": [
    "df_filtered['BodyweightKg'] = df_filtered['BodyweightKg'].apply(lambda x: round(x/5) * 5)"
   ]
  },
  {
   "cell_type": "code",
   "execution_count": 15,
   "id": "c7f819fa-639c-4a4f-b902-e929ddf3f6dc",
   "metadata": {},
   "outputs": [
    {
     "data": {
      "text/plain": [
       "0.10    185.0\n",
       "0.25    210.0\n",
       "0.50    237.5\n",
       "0.75    265.0\n",
       "0.90    290.0\n",
       "Name: Best3DeadliftKg, dtype: float64"
      ]
     },
     "execution_count": 15,
     "metadata": {},
     "output_type": "execute_result"
    }
   ],
   "source": [
    "df_filtered[(df_filtered['Sex'] == 'M') & (df_filtered['Age'] == 30.0) & (df_filtered['Best3DeadliftKg'].notna())]['Best3DeadliftKg'].quantile([0.1, 0.25, 0.5, 0.75, 0.9])"
   ]
  },
  {
   "cell_type": "code",
   "execution_count": 18,
   "id": "0eb43e63-1c7a-4132-8996-6a1f17662fc9",
   "metadata": {},
   "outputs": [
    {
     "name": "stderr",
     "output_type": "stream",
     "text": [
      "/var/folders/qj/g13f52zj7553jhpjgb0641w00000gn/T/ipykernel_30086/2684119017.py:1: UserWarning: Boolean Series key will be reindexed to match DataFrame index.\n",
      "  df_filtered[(df['Sex'] == sex) &\n"
     ]
    },
    {
     "data": {
      "text/plain": [
       "0.10    204.500\n",
       "0.25    223.750\n",
       "0.50    247.500\n",
       "0.75    272.245\n",
       "0.90    297.750\n",
       "Name: Best3DeadliftKg, dtype: float64"
      ]
     },
     "execution_count": 18,
     "metadata": {},
     "output_type": "execute_result"
    }
   ],
   "source": [
    "df_filtered[(df['Sex'] == sex) &\n",
    "                                 (df['BodyweightKg'] == weight) & (df['Age'] == age) & (df['Best3DeadliftKg'].notna())]['Best3DeadliftKg'].quantile([0.1, 0.25, 0.5, 0.75, 0.9])"
   ]
  },
  {
   "cell_type": "code",
   "execution_count": 17,
   "id": "ec20e29c-0b38-46bc-acd8-96bddf9ca86b",
   "metadata": {},
   "outputs": [],
   "source": [
    "sex, age, weight = 'M', 25, 100"
   ]
  },
  {
   "cell_type": "code",
   "execution_count": 34,
   "id": "d0c11794-be51-43a9-ad21-70f78f40e028",
   "metadata": {},
   "outputs": [],
   "source": [
    "dl_query = df_filtered[(df_filtered['Sex'] == sex) & (df_filtered['BodyweightKg'] == weight) & (df_filtered['Age'] == 'F') & (df_filtered['Best3DeadliftKg'].notna())]['Best3DeadliftKg'].quantile([0.1, 0.25, 0.5, 0.75, 0.9])"
   ]
  },
  {
   "cell_type": "code",
   "execution_count": 37,
   "id": "0c387a2b-6b4c-41ed-9de1-cf136fb3a2c6",
   "metadata": {},
   "outputs": [
    {
     "data": {
      "text/plain": [
       "True"
      ]
     },
     "execution_count": 37,
     "metadata": {},
     "output_type": "execute_result"
    }
   ],
   "source": [
    "dl_query.isna().any()"
   ]
  },
  {
   "cell_type": "code",
   "execution_count": 50,
   "id": "16299be8-239a-43a1-86dd-92db9ac822e5",
   "metadata": {},
   "outputs": [],
   "source": [
    "personalized_query = df_filtered\n",
    "deadlift = personalized_query[personalized_query['Best3DeadliftKg'].notna()]['Best3DeadliftKg'].quantile([0.1, 0.25, 0.5, 0.75, 0.9]).to_dict()\n"
   ]
  },
  {
   "cell_type": "code",
   "execution_count": 52,
   "id": "1380ee38-7a97-4a7b-94ff-22209658a741",
   "metadata": {},
   "outputs": [],
   "source": [
    "deadlift['exercise_name'] = 'test'"
   ]
  },
  {
   "cell_type": "code",
   "execution_count": 61,
   "id": "414c9df6-5dd7-40b9-9799-142dcc7dcb37",
   "metadata": {},
   "outputs": [],
   "source": [
    "    deadlift = personalized_query[personalized_query['Best3DeadliftKg'].notna()]['Best3DeadliftKg'].quantile([0.1, 0.25, 0.5, 0.75, 0.9]).to_dict()\n",
    "    bench = personalized_query[personalized_query['Best3BenchKg'].notna()]['Best3BenchKg'].quantile([0.1, 0.25, 0.5, 0.75, 0.9]).to_dict()\n",
    "    squat = personalized_query[personalized_query['Best3SquatKg'].notna()]['Best3SquatKg'].quantile([0.1, 0.25, 0.5, 0.75, 0.9]).to_dict()\n",
    "    deadlift['exercise_name'] = 'deadlift'\n",
    "    bench['exercise_name'] = 'bench'\n",
    "    squat['exercise_name'] = 'squat'\n"
   ]
  },
  {
   "cell_type": "code",
   "execution_count": 64,
   "id": "26426be2-d637-45e2-b762-42983cc00041",
   "metadata": {},
   "outputs": [
    {
     "data": {
      "text/plain": [
       "[{0.1: 112.5,\n",
       "  0.25: 142.5,\n",
       "  0.5: 190.0,\n",
       "  0.75: 235.0,\n",
       "  0.9: 265.0,\n",
       "  'exercise_name': 'deadlift'},\n",
       " {0.1: 52.5,\n",
       "  0.25: 72.5,\n",
       "  0.5: 110.0,\n",
       "  0.75: 142.5,\n",
       "  0.9: 167.5,\n",
       "  'exercise_name': 'bench'},\n",
       " {0.1: 90.0,\n",
       "  0.25: 117.5,\n",
       "  0.5: 162.5,\n",
       "  0.75: 205.0,\n",
       "  0.9: 240.0,\n",
       "  'exercise_name': 'squat'}]"
      ]
     },
     "execution_count": 64,
     "metadata": {},
     "output_type": "execute_result"
    }
   ],
   "source": [
    "[deadlift, bench, squat]"
   ]
  },
  {
   "cell_type": "code",
   "execution_count": 6,
   "id": "0ca858f2-18bc-4d4a-b9b6-603fae642f23",
   "metadata": {},
   "outputs": [
    {
     "name": "stdout",
     "output_type": "stream",
     "text": [
      "Index([], dtype='object')\n"
     ]
    }
   ],
   "source": [
    "nun = df_filtered.columns[df_filtered.map(type).nunique() > 1]\n",
    "print(nun)"
   ]
  },
  {
   "cell_type": "code",
   "execution_count": 9,
   "id": "e45e159c-adfc-407c-a882-27353bfa534e",
   "metadata": {},
   "outputs": [
    {
     "name": "stdout",
     "output_type": "stream",
     "text": [
      "Sex\n",
      "<class 'str'>    946632\n",
      "Name: count, dtype: int64\n",
      "Age\n",
      "<class 'float'>    946632\n",
      "Name: count, dtype: int64\n",
      "BodyweightKg\n",
      "<class 'float'>    946632\n",
      "Name: count, dtype: int64\n",
      "Best3DeadliftKg\n",
      "<class 'float'>    946632\n",
      "Name: count, dtype: int64\n",
      "Best3BenchKg\n",
      "<class 'float'>    946632\n",
      "Name: count, dtype: int64\n",
      "Best3SquatKg\n",
      "<class 'float'>    946632\n",
      "Name: count, dtype: int64\n"
     ]
    }
   ],
   "source": [
    "for column in df_filtered.columns:\n",
    "    print(df_filtered[column].apply(type).value_counts())"
   ]
  },
  {
   "cell_type": "code",
   "execution_count": 17,
   "id": "f6f6c1c5-12f1-47a6-82c4-f343897a2fa2",
   "metadata": {},
   "outputs": [
    {
     "name": "stdout",
     "output_type": "stream",
     "text": [
      "Number of non-integer values in each column:\n",
      "Sex                946632\n",
      "Age                     0\n",
      "BodyweightKg            0\n",
      "Best3DeadliftKg         0\n",
      "Best3BenchKg            0\n",
      "Best3SquatKg            0\n",
      "dtype: int64\n"
     ]
    }
   ],
   "source": [
    "non_integer_counts = df_filtered.apply(lambda col: (~col.apply(lambda x: isinstance(x, float))).sum())\n",
    "\n",
    "print(\"Number of non-integer values in each column:\")\n",
    "print(non_integer_counts)"
   ]
  },
  {
   "cell_type": "code",
   "execution_count": null,
   "id": "1b6527a4-8f52-4cbf-95a8-5b43ff9642e9",
   "metadata": {},
   "outputs": [],
   "source": []
  }
 ],
 "metadata": {
  "kernelspec": {
   "display_name": "Python 3 (ipykernel)",
   "language": "python",
   "name": "python3"
  },
  "language_info": {
   "codemirror_mode": {
    "name": "ipython",
    "version": 3
   },
   "file_extension": ".py",
   "mimetype": "text/x-python",
   "name": "python",
   "nbconvert_exporter": "python",
   "pygments_lexer": "ipython3",
   "version": "3.12.1"
  }
 },
 "nbformat": 4,
 "nbformat_minor": 5
}
