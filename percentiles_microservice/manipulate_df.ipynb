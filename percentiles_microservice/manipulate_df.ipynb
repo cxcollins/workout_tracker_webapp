{
 "cells": [
  {
   "cell_type": "code",
   "execution_count": 2,
   "id": "05bba6cb-2e81-4fe1-9917-3b41a2f05f42",
   "metadata": {},
   "outputs": [],
   "source": [
    "import pandas as pd"
   ]
  },
  {
   "cell_type": "code",
   "execution_count": 3,
   "id": "e6dacee4-6394-40f5-91e9-7ba827358f1b",
   "metadata": {},
   "outputs": [
    {
     "name": "stderr",
     "output_type": "stream",
     "text": [
      "/var/folders/qj/g13f52zj7553jhpjgb0641w00000gn/T/ipykernel_26398/811401508.py:1: DtypeWarning: Columns (33,35,38) have mixed types. Specify dtype option on import or set low_memory=False.\n",
      "  df = pd.read_csv('openpowerlifting-2024-11-30-a70793a3.csv')\n"
     ]
    },
    {
     "name": "stdout",
     "output_type": "stream",
     "text": [
      "                Name Sex Event Equipment   Age AgeClass BirthYearClass  \\\n",
      "0     E.S. Denisenko   F     B       Raw  28.5    24-34          24-39   \n",
      "1    I.S. Lebetskaya   F     B       Raw  43.5    40-44          40-49   \n",
      "2      K. Yakimovich   F     B       Raw  26.5    24-34          24-39   \n",
      "3       A.G. Golneva   F     B       Raw  19.5    20-23          19-23   \n",
      "4  E.V. Marunevskaya   F     B       Raw  19.5    20-23          19-23   \n",
      "\n",
      "        Division  BodyweightKg WeightClassKg  ...  Country  State  \\\n",
      "0           Open          67.3           NaN  ...      NaN    NaN   \n",
      "1           Open          73.2           NaN  ...      NaN    NaN   \n",
      "2           Open          60.6           NaN  ...      NaN    NaN   \n",
      "3  Juniors 17-21          50.3           NaN  ...      NaN    NaN   \n",
      "4  Juniors 17-21          63.7           NaN  ...      NaN    NaN   \n",
      "\n",
      "    Federation  ParentFederation        Date  MeetCountry  MeetState  \\\n",
      "0  GSF-Belarus               NaN  2019-06-22      Belarus        NaN   \n",
      "1  GSF-Belarus               NaN  2019-06-22      Belarus        NaN   \n",
      "2  GSF-Belarus               NaN  2019-06-22      Belarus        NaN   \n",
      "3  GSF-Belarus               NaN  2019-06-22      Belarus        NaN   \n",
      "4  GSF-Belarus               NaN  2019-06-22      Belarus        NaN   \n",
      "\n",
      "   MeetTown         MeetName  Sanctioned  \n",
      "0  Luninets  Bison Power Cup         Yes  \n",
      "1  Luninets  Bison Power Cup         Yes  \n",
      "2  Luninets  Bison Power Cup         Yes  \n",
      "3  Luninets  Bison Power Cup         Yes  \n",
      "4  Luninets  Bison Power Cup         Yes  \n",
      "\n",
      "[5 rows x 42 columns]\n"
     ]
    }
   ],
   "source": [
    "df = pd.read_csv('openpowerlifting-2024-11-30-a70793a3.csv')\n",
    "\n",
    "print(df.head())"
   ]
  },
  {
   "cell_type": "code",
   "execution_count": 8,
   "id": "87577cc9-d0ae-4ed7-985b-9eb497a3a75a",
   "metadata": {},
   "outputs": [
    {
     "name": "stdout",
     "output_type": "stream",
     "text": [
      "Index(['Name', 'Sex', 'Event', 'Equipment', 'Age', 'AgeClass',\n",
      "       'BirthYearClass', 'Division', 'BodyweightKg', 'WeightClassKg',\n",
      "       'Squat1Kg', 'Squat2Kg', 'Squat3Kg', 'Squat4Kg', 'Best3SquatKg',\n",
      "       'Bench1Kg', 'Bench2Kg', 'Bench3Kg', 'Bench4Kg', 'Best3BenchKg',\n",
      "       'Deadlift1Kg', 'Deadlift2Kg', 'Deadlift3Kg', 'Deadlift4Kg',\n",
      "       'Best3DeadliftKg', 'TotalKg', 'Place', 'Dots', 'Wilks', 'Glossbrenner',\n",
      "       'Goodlift', 'Tested', 'Country', 'State', 'Federation',\n",
      "       'ParentFederation', 'Date', 'MeetCountry', 'MeetState', 'MeetTown',\n",
      "       'MeetName', 'Sanctioned'],\n",
      "      dtype='object')\n",
      "140298228\n"
     ]
    }
   ],
   "source": [
    "print(df.columns)\n",
    "print(df.size)"
   ]
  },
  {
   "cell_type": "code",
   "execution_count": 25,
   "id": "d58b0b22-9bff-4e9c-8174-196ce1a32a04",
   "metadata": {},
   "outputs": [
    {
     "name": "stdout",
     "output_type": "stream",
     "text": [
      "5679792\n"
     ]
    }
   ],
   "source": [
    "df_filtered = df[(df['Equipment'] == 'Raw') & (df['BodyweightKg'] != '') & (df['BodyweightKg'].notna()) & (df['Tested'] == 'Yes') & (df['Age'].notna())][['Sex', 'Age', 'BodyweightKg', 'Best3DeadliftKg', 'Best3BenchKg', 'Best3SquatKg']]\n",
    "print(df_filtered.size)"
   ]
  },
  {
   "cell_type": "code",
   "execution_count": 28,
   "id": "9d8226cd-9c29-473f-b19b-d86391c95b8e",
   "metadata": {},
   "outputs": [],
   "source": [
    "df_filtered['BodyweightKg'] = df_filtered['BodyweightKg'].apply(lambda x: round(x/5) * 5)"
   ]
  },
  {
   "cell_type": "code",
   "execution_count": 40,
   "id": "c7f819fa-639c-4a4f-b902-e929ddf3f6dc",
   "metadata": {},
   "outputs": [
    {
     "name": "stderr",
     "output_type": "stream",
     "text": [
      "/var/folders/qj/g13f52zj7553jhpjgb0641w00000gn/T/ipykernel_26398/4159294394.py:1: UserWarning: Boolean Series key will be reindexed to match DataFrame index.\n",
      "  df_filtered[(df['Sex'] == 'M') & (df['Age'] == 30) & (df['Best3DeadliftKg'].notna())]['Best3DeadliftKg'].quantile([0.1, 0.25, 0.5, 0.75, 0.9])\n"
     ]
    },
    {
     "data": {
      "text/plain": [
       "0.10    185.0\n",
       "0.25    210.0\n",
       "0.50    237.5\n",
       "0.75    265.0\n",
       "0.90    290.0\n",
       "Name: Best3DeadliftKg, dtype: float64"
      ]
     },
     "execution_count": 40,
     "metadata": {},
     "output_type": "execute_result"
    }
   ],
   "source": [
    "df_filtered[(df['Sex'] == 'M') & (df['Age'] == 30) & (df['Best3DeadliftKg'].notna())]['Best3DeadliftKg'].quantile([0.1, 0.25, 0.5, 0.75, 0.9])"
   ]
  },
  {
   "cell_type": "code",
   "execution_count": 41,
   "id": "0eb43e63-1c7a-4132-8996-6a1f17662fc9",
   "metadata": {},
   "outputs": [
    {
     "ename": "KeyError",
     "evalue": "'Weight'",
     "output_type": "error",
     "traceback": [
      "\u001b[0;31m---------------------------------------------------------------------------\u001b[0m",
      "\u001b[0;31mKeyError\u001b[0m                                  Traceback (most recent call last)",
      "File \u001b[0;32m/Library/Frameworks/Python.framework/Versions/3.12/lib/python3.12/site-packages/pandas/core/indexes/base.py:3805\u001b[0m, in \u001b[0;36mIndex.get_loc\u001b[0;34m(self, key)\u001b[0m\n\u001b[1;32m   3804\u001b[0m \u001b[38;5;28;01mtry\u001b[39;00m:\n\u001b[0;32m-> 3805\u001b[0m     \u001b[38;5;28;01mreturn\u001b[39;00m \u001b[38;5;28;43mself\u001b[39;49m\u001b[38;5;241;43m.\u001b[39;49m\u001b[43m_engine\u001b[49m\u001b[38;5;241;43m.\u001b[39;49m\u001b[43mget_loc\u001b[49m\u001b[43m(\u001b[49m\u001b[43mcasted_key\u001b[49m\u001b[43m)\u001b[49m\n\u001b[1;32m   3806\u001b[0m \u001b[38;5;28;01mexcept\u001b[39;00m \u001b[38;5;167;01mKeyError\u001b[39;00m \u001b[38;5;28;01mas\u001b[39;00m err:\n",
      "File \u001b[0;32mindex.pyx:167\u001b[0m, in \u001b[0;36mpandas._libs.index.IndexEngine.get_loc\u001b[0;34m()\u001b[0m\n",
      "File \u001b[0;32mindex.pyx:196\u001b[0m, in \u001b[0;36mpandas._libs.index.IndexEngine.get_loc\u001b[0;34m()\u001b[0m\n",
      "File \u001b[0;32mpandas/_libs/hashtable_class_helper.pxi:7081\u001b[0m, in \u001b[0;36mpandas._libs.hashtable.PyObjectHashTable.get_item\u001b[0;34m()\u001b[0m\n",
      "File \u001b[0;32mpandas/_libs/hashtable_class_helper.pxi:7089\u001b[0m, in \u001b[0;36mpandas._libs.hashtable.PyObjectHashTable.get_item\u001b[0;34m()\u001b[0m\n",
      "\u001b[0;31mKeyError\u001b[0m: 'Weight'",
      "\nThe above exception was the direct cause of the following exception:\n",
      "\u001b[0;31mKeyError\u001b[0m                                  Traceback (most recent call last)",
      "Cell \u001b[0;32mIn[41], line 1\u001b[0m\n\u001b[0;32m----> 1\u001b[0m \u001b[43mdf_filtered\u001b[49m\u001b[43m[\u001b[49m\u001b[38;5;124;43m'\u001b[39;49m\u001b[38;5;124;43mWeight\u001b[39;49m\u001b[38;5;124;43m'\u001b[39;49m\u001b[43m]\u001b[49m\u001b[38;5;241m.\u001b[39mapply(\u001b[38;5;28mtype\u001b[39m)\u001b[38;5;241m.\u001b[39mvalue_counts()\n",
      "File \u001b[0;32m/Library/Frameworks/Python.framework/Versions/3.12/lib/python3.12/site-packages/pandas/core/frame.py:4102\u001b[0m, in \u001b[0;36mDataFrame.__getitem__\u001b[0;34m(self, key)\u001b[0m\n\u001b[1;32m   4100\u001b[0m \u001b[38;5;28;01mif\u001b[39;00m \u001b[38;5;28mself\u001b[39m\u001b[38;5;241m.\u001b[39mcolumns\u001b[38;5;241m.\u001b[39mnlevels \u001b[38;5;241m>\u001b[39m \u001b[38;5;241m1\u001b[39m:\n\u001b[1;32m   4101\u001b[0m     \u001b[38;5;28;01mreturn\u001b[39;00m \u001b[38;5;28mself\u001b[39m\u001b[38;5;241m.\u001b[39m_getitem_multilevel(key)\n\u001b[0;32m-> 4102\u001b[0m indexer \u001b[38;5;241m=\u001b[39m \u001b[38;5;28;43mself\u001b[39;49m\u001b[38;5;241;43m.\u001b[39;49m\u001b[43mcolumns\u001b[49m\u001b[38;5;241;43m.\u001b[39;49m\u001b[43mget_loc\u001b[49m\u001b[43m(\u001b[49m\u001b[43mkey\u001b[49m\u001b[43m)\u001b[49m\n\u001b[1;32m   4103\u001b[0m \u001b[38;5;28;01mif\u001b[39;00m is_integer(indexer):\n\u001b[1;32m   4104\u001b[0m     indexer \u001b[38;5;241m=\u001b[39m [indexer]\n",
      "File \u001b[0;32m/Library/Frameworks/Python.framework/Versions/3.12/lib/python3.12/site-packages/pandas/core/indexes/base.py:3812\u001b[0m, in \u001b[0;36mIndex.get_loc\u001b[0;34m(self, key)\u001b[0m\n\u001b[1;32m   3807\u001b[0m     \u001b[38;5;28;01mif\u001b[39;00m \u001b[38;5;28misinstance\u001b[39m(casted_key, \u001b[38;5;28mslice\u001b[39m) \u001b[38;5;129;01mor\u001b[39;00m (\n\u001b[1;32m   3808\u001b[0m         \u001b[38;5;28misinstance\u001b[39m(casted_key, abc\u001b[38;5;241m.\u001b[39mIterable)\n\u001b[1;32m   3809\u001b[0m         \u001b[38;5;129;01mand\u001b[39;00m \u001b[38;5;28many\u001b[39m(\u001b[38;5;28misinstance\u001b[39m(x, \u001b[38;5;28mslice\u001b[39m) \u001b[38;5;28;01mfor\u001b[39;00m x \u001b[38;5;129;01min\u001b[39;00m casted_key)\n\u001b[1;32m   3810\u001b[0m     ):\n\u001b[1;32m   3811\u001b[0m         \u001b[38;5;28;01mraise\u001b[39;00m InvalidIndexError(key)\n\u001b[0;32m-> 3812\u001b[0m     \u001b[38;5;28;01mraise\u001b[39;00m \u001b[38;5;167;01mKeyError\u001b[39;00m(key) \u001b[38;5;28;01mfrom\u001b[39;00m \u001b[38;5;21;01merr\u001b[39;00m\n\u001b[1;32m   3813\u001b[0m \u001b[38;5;28;01mexcept\u001b[39;00m \u001b[38;5;167;01mTypeError\u001b[39;00m:\n\u001b[1;32m   3814\u001b[0m     \u001b[38;5;66;03m# If we have a listlike key, _check_indexing_error will raise\u001b[39;00m\n\u001b[1;32m   3815\u001b[0m     \u001b[38;5;66;03m#  InvalidIndexError. Otherwise we fall through and re-raise\u001b[39;00m\n\u001b[1;32m   3816\u001b[0m     \u001b[38;5;66;03m#  the TypeError.\u001b[39;00m\n\u001b[1;32m   3817\u001b[0m     \u001b[38;5;28mself\u001b[39m\u001b[38;5;241m.\u001b[39m_check_indexing_error(key)\n",
      "\u001b[0;31mKeyError\u001b[0m: 'Weight'"
     ]
    }
   ],
   "source": [
    "df_filtered['Weight'].apply(type).value_counts()"
   ]
  },
  {
   "cell_type": "code",
   "execution_count": null,
   "id": "ec20e29c-0b38-46bc-acd8-96bddf9ca86b",
   "metadata": {},
   "outputs": [],
   "source": []
  }
 ],
 "metadata": {
  "kernelspec": {
   "display_name": "Python 3 (ipykernel)",
   "language": "python",
   "name": "python3"
  },
  "language_info": {
   "codemirror_mode": {
    "name": "ipython",
    "version": 3
   },
   "file_extension": ".py",
   "mimetype": "text/x-python",
   "name": "python",
   "nbconvert_exporter": "python",
   "pygments_lexer": "ipython3",
   "version": "3.12.1"
  }
 },
 "nbformat": 4,
 "nbformat_minor": 5
}
